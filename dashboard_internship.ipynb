{
  "nbformat": 4,
  "nbformat_minor": 0,
  "metadata": {
    "colab": {
      "provenance": [],
      "authorship_tag": "ABX9TyM+hXXoxfSUxbMvyBIY1Kmh",
      "include_colab_link": true
    },
    "kernelspec": {
      "name": "python3",
      "display_name": "Python 3"
    },
    "language_info": {
      "name": "python"
    }
  },
  "cells": [
    {
      "cell_type": "markdown",
      "metadata": {
        "id": "view-in-github",
        "colab_type": "text"
      },
      "source": [
        "<a href=\"https://colab.research.google.com/github/GOURISHETTIASHISH/ELiteTEch-Intern-Task-3/blob/main/dashboard_internship.ipynb\" target=\"_parent\"><img src=\"https://colab.research.google.com/assets/colab-badge.svg\" alt=\"Open In Colab\"/></a>"
      ]
    },
    {
      "cell_type": "code",
      "source": [],
      "metadata": {
        "id": "CTd5wtPtGJh0"
      },
      "execution_count": null,
      "outputs": []
    },
    {
      "cell_type": "code",
      "source": [
        "pip install dash pandas plotly\n"
      ],
      "metadata": {
        "colab": {
          "base_uri": "https://localhost:8080/"
        },
        "id": "jT4SAcEEGJfh",
        "outputId": "4094064b-c47a-47e8-e344-dbcfd4fd68ae"
      },
      "execution_count": 1,
      "outputs": [
        {
          "output_type": "stream",
          "name": "stdout",
          "text": [
            "Collecting dash\n",
            "  Downloading dash-2.18.2-py3-none-any.whl.metadata (10 kB)\n",
            "Requirement already satisfied: pandas in /usr/local/lib/python3.10/dist-packages (2.2.2)\n",
            "Requirement already satisfied: plotly in /usr/local/lib/python3.10/dist-packages (5.24.1)\n",
            "Requirement already satisfied: Flask<3.1,>=1.0.4 in /usr/local/lib/python3.10/dist-packages (from dash) (3.0.3)\n",
            "Collecting Werkzeug<3.1 (from dash)\n",
            "  Downloading werkzeug-3.0.6-py3-none-any.whl.metadata (3.7 kB)\n",
            "Collecting dash-html-components==2.0.0 (from dash)\n",
            "  Downloading dash_html_components-2.0.0-py3-none-any.whl.metadata (3.8 kB)\n",
            "Collecting dash-core-components==2.0.0 (from dash)\n",
            "  Downloading dash_core_components-2.0.0-py3-none-any.whl.metadata (2.9 kB)\n",
            "Collecting dash-table==5.0.0 (from dash)\n",
            "  Downloading dash_table-5.0.0-py3-none-any.whl.metadata (2.4 kB)\n",
            "Requirement already satisfied: importlib-metadata in /usr/local/lib/python3.10/dist-packages (from dash) (8.5.0)\n",
            "Requirement already satisfied: typing-extensions>=4.1.1 in /usr/local/lib/python3.10/dist-packages (from dash) (4.12.2)\n",
            "Requirement already satisfied: requests in /usr/local/lib/python3.10/dist-packages (from dash) (2.32.3)\n",
            "Collecting retrying (from dash)\n",
            "  Downloading retrying-1.3.4-py3-none-any.whl.metadata (6.9 kB)\n",
            "Requirement already satisfied: nest-asyncio in /usr/local/lib/python3.10/dist-packages (from dash) (1.6.0)\n",
            "Requirement already satisfied: setuptools in /usr/local/lib/python3.10/dist-packages (from dash) (75.1.0)\n",
            "Requirement already satisfied: numpy>=1.22.4 in /usr/local/lib/python3.10/dist-packages (from pandas) (1.26.4)\n",
            "Requirement already satisfied: python-dateutil>=2.8.2 in /usr/local/lib/python3.10/dist-packages (from pandas) (2.8.2)\n",
            "Requirement already satisfied: pytz>=2020.1 in /usr/local/lib/python3.10/dist-packages (from pandas) (2024.2)\n",
            "Requirement already satisfied: tzdata>=2022.7 in /usr/local/lib/python3.10/dist-packages (from pandas) (2024.2)\n",
            "Requirement already satisfied: tenacity>=6.2.0 in /usr/local/lib/python3.10/dist-packages (from plotly) (9.0.0)\n",
            "Requirement already satisfied: packaging in /usr/local/lib/python3.10/dist-packages (from plotly) (24.2)\n",
            "Requirement already satisfied: Jinja2>=3.1.2 in /usr/local/lib/python3.10/dist-packages (from Flask<3.1,>=1.0.4->dash) (3.1.4)\n",
            "Requirement already satisfied: itsdangerous>=2.1.2 in /usr/local/lib/python3.10/dist-packages (from Flask<3.1,>=1.0.4->dash) (2.2.0)\n",
            "Requirement already satisfied: click>=8.1.3 in /usr/local/lib/python3.10/dist-packages (from Flask<3.1,>=1.0.4->dash) (8.1.7)\n",
            "Requirement already satisfied: blinker>=1.6.2 in /usr/local/lib/python3.10/dist-packages (from Flask<3.1,>=1.0.4->dash) (1.9.0)\n",
            "Requirement already satisfied: six>=1.5 in /usr/local/lib/python3.10/dist-packages (from python-dateutil>=2.8.2->pandas) (1.16.0)\n",
            "Requirement already satisfied: MarkupSafe>=2.1.1 in /usr/local/lib/python3.10/dist-packages (from Werkzeug<3.1->dash) (3.0.2)\n",
            "Requirement already satisfied: zipp>=3.20 in /usr/local/lib/python3.10/dist-packages (from importlib-metadata->dash) (3.21.0)\n",
            "Requirement already satisfied: charset-normalizer<4,>=2 in /usr/local/lib/python3.10/dist-packages (from requests->dash) (3.4.0)\n",
            "Requirement already satisfied: idna<4,>=2.5 in /usr/local/lib/python3.10/dist-packages (from requests->dash) (3.10)\n",
            "Requirement already satisfied: urllib3<3,>=1.21.1 in /usr/local/lib/python3.10/dist-packages (from requests->dash) (2.2.3)\n",
            "Requirement already satisfied: certifi>=2017.4.17 in /usr/local/lib/python3.10/dist-packages (from requests->dash) (2024.8.30)\n",
            "Downloading dash-2.18.2-py3-none-any.whl (7.8 MB)\n",
            "\u001b[2K   \u001b[90m━━━━━━━━━━━━━━━━━━━━━━━━━━━━━━━━━━━━━━━━\u001b[0m \u001b[32m7.8/7.8 MB\u001b[0m \u001b[31m23.4 MB/s\u001b[0m eta \u001b[36m0:00:00\u001b[0m\n",
            "\u001b[?25hDownloading dash_core_components-2.0.0-py3-none-any.whl (3.8 kB)\n",
            "Downloading dash_html_components-2.0.0-py3-none-any.whl (4.1 kB)\n",
            "Downloading dash_table-5.0.0-py3-none-any.whl (3.9 kB)\n",
            "Downloading werkzeug-3.0.6-py3-none-any.whl (227 kB)\n",
            "\u001b[2K   \u001b[90m━━━━━━━━━━━━━━━━━━━━━━━━━━━━━━━━━━━━━━━━\u001b[0m \u001b[32m228.0/228.0 kB\u001b[0m \u001b[31m6.3 MB/s\u001b[0m eta \u001b[36m0:00:00\u001b[0m\n",
            "\u001b[?25hDownloading retrying-1.3.4-py3-none-any.whl (11 kB)\n",
            "Installing collected packages: dash-table, dash-html-components, dash-core-components, Werkzeug, retrying, dash\n",
            "  Attempting uninstall: Werkzeug\n",
            "    Found existing installation: Werkzeug 3.1.3\n",
            "    Uninstalling Werkzeug-3.1.3:\n",
            "      Successfully uninstalled Werkzeug-3.1.3\n",
            "Successfully installed Werkzeug-3.0.6 dash-2.18.2 dash-core-components-2.0.0 dash-html-components-2.0.0 dash-table-5.0.0 retrying-1.3.4\n"
          ]
        }
      ]
    },
    {
      "cell_type": "code",
      "execution_count": 2,
      "metadata": {
        "colab": {
          "base_uri": "https://localhost:8080/",
          "height": 672
        },
        "id": "0eb5_Yg9Ffwy",
        "outputId": "701651af-230a-49b9-ffeb-c3596599f527"
      },
      "outputs": [
        {
          "output_type": "display_data",
          "data": {
            "text/plain": [
              "<IPython.core.display.Javascript object>"
            ],
            "application/javascript": [
              "(async (port, path, width, height, cache, element) => {\n",
              "    if (!google.colab.kernel.accessAllowed && !cache) {\n",
              "      return;\n",
              "    }\n",
              "    element.appendChild(document.createTextNode(''));\n",
              "    const url = await google.colab.kernel.proxyPort(port, {cache});\n",
              "    const iframe = document.createElement('iframe');\n",
              "    iframe.src = new URL(path, url).toString();\n",
              "    iframe.height = height;\n",
              "    iframe.width = width;\n",
              "    iframe.style.border = 0;\n",
              "    iframe.allow = [\n",
              "        'accelerometer',\n",
              "        'autoplay',\n",
              "        'camera',\n",
              "        'clipboard-read',\n",
              "        'clipboard-write',\n",
              "        'gyroscope',\n",
              "        'magnetometer',\n",
              "        'microphone',\n",
              "        'serial',\n",
              "        'usb',\n",
              "        'xr-spatial-tracking',\n",
              "    ].join('; ');\n",
              "    element.appendChild(iframe);\n",
              "  })(8050, \"/\", \"100%\", 650, false, window.element)"
            ]
          },
          "metadata": {}
        }
      ],
      "source": [
        "import dash\n",
        "from dash import dcc, html\n",
        "import pandas as pd\n",
        "import plotly.express as px\n",
        "\n",
        "# Create the Dash app instance\n",
        "app = dash.Dash(__name__)\n",
        "\n",
        "# Mock data creation\n",
        "# Create a list of countries\n",
        "countries = ['USA', 'China', 'India', 'Brazil', 'Germany', 'UK', 'Canada', 'France']\n",
        "\n",
        "# Create a list of years\n",
        "years = list(range(2000, 2021))\n",
        "\n",
        "# Create a list of GDP per capita values\n",
        "gdp_per_capita = [\n",
        "    50000, 51000, 52000, 53000, 55000, 57000, 58000, 59000, 60000, 61000, 62000, 63000,\n",
        "    7000, 7100, 7200, 7300, 7500, 7700, 7800, 7900, 8000, 8100, 8200, 8300,\n",
        "    1000, 1200, 1300, 1450, 1600, 1720, 1800, 1900, 2000, 2100, 2200, 2300\n",
        "]\n",
        "\n",
        "# Create a list of life expectancy values\n",
        "life_expectancy = [\n",
        "    78, 77.8, 77.5, 77.2, 77.0, 76.8, 76.5, 76.3, 76.0, 75.8, 75.5, 75.2,\n",
        "    72, 72.2, 72.5, 72.8, 73.0, 73.3, 73.5, 73.7, 74.0, 74.2, 74.5, 74.8\n",
        "]\n",
        "\n",
        "# Create a list to store the data\n",
        "data = []\n",
        "\n",
        "# Generate data for each country and year\n",
        "for country in countries:\n",
        "    for year in years:\n",
        "        # Get the index for GDP and life expectancy based on the country\n",
        "        country_index = countries.index(country)\n",
        "        gdp_index = country_index * len(years) + years.index(year)\n",
        "        life_expectancy_index = country_index * len(years) + years.index(year)\n",
        "        if gdp_index >= len(gdp_per_capita):\n",
        "            # Handle cases where the index for GDP exceeds the list length.\n",
        "            gdp_index = gdp_index % len(gdp_per_capita)\n",
        "        if life_expectancy_index >= len(life_expectancy):\n",
        "            # Handle cases where the index for Life expectancy exceeds the list length.\n",
        "            life_expectancy_index = life_expectancy_index % len(life_expectancy)\n",
        "\n",
        "\n",
        "        data.append([country, year, gdp_per_capita[gdp_index], life_expectancy[life_expectancy_index % len(life_expectancy)]]) # add data to list\n",
        "\n",
        "\n",
        "# Convert the list of data into a DataFrame\n",
        "df = pd.DataFrame(data, columns=['Country', 'Year', 'GDP_per_Capita', 'Life_Expectancy'])\n",
        "\n",
        "# App Layout (rest of the code remains the same\n",
        "\n",
        "# App Layout\n",
        "app.layout = html.Div([\n",
        "    html.H1(\"Interactive GDP and Life Expectancy Dashboard\"),\n",
        "\n",
        "    # Dropdown for country selection\n",
        "    html.Label(\"Select a Country:\"),\n",
        "    dcc.Dropdown(\n",
        "        id=\"country-dropdown\",\n",
        "        options=[{\"label\": country, \"value\": country} for country in df[\"Country\"].unique()],\n",
        "        value=\"USA\",\n",
        "        multi=False\n",
        "    ),\n",
        "\n",
        "    # Slider for selecting year range\n",
        "    html.Label(\"Select Year:\"),\n",
        "    dcc.Slider(\n",
        "        id='year-slider',\n",
        "        min=df['Year'].min(),\n",
        "        max=df['Year'].max(),\n",
        "        value=df['Year'].min(),\n",
        "        marks={year: str(year) for year in range(df['Year'].min(), df['Year'].max()+1, 2)},\n",
        "        step=1\n",
        "    ),\n",
        "\n",
        "    # Graph\n",
        "    dcc.Graph(id=\"line-chart\")\n",
        "])\n",
        "\n",
        "\n",
        "# Callback function to dynamically filter and update the graph\n",
        "@app.callback(\n",
        "    dash.Output(\"line-chart\", \"figure\"),  # Changed this line to use Output\n",
        "    [dash.Input(\"country-dropdown\", \"value\"), dash.Input(\"year-slider\", \"value\")] # Changed this line to use Input\n",
        ")\n",
        "def update_graph(selected_country, selected_year):\n",
        "    # Filter the data\n",
        "    filtered_df = df[\n",
        "        (df[\"Country\"] == selected_country) &\n",
        "        (df[\"Year\"] <= selected_year)\n",
        "    ]\n",
        "\n",
        "    # Create the line chart using Plotly Express\n",
        "    fig = px.line(\n",
        "        filtered_df,\n",
        "        x=\"Year\",\n",
        "        y=[\"GDP_per_Capita\", \"Life_Expectancy\"],\n",
        "        labels={\"value\": \"Metric Value\", \"variable\": \"Metric\"},\n",
        "        title=f\"{selected_country} GDP & Life Expectancy Trends Over Time\"\n",
        "    )\n",
        "\n",
        "    # Return the plot\n",
        "    return fig\n",
        "\n",
        "\n",
        "# Run the server\n",
        "if __name__ == '__main__':\n",
        "    app.run_server(debug=True)\n"
      ]
    },
    {
      "cell_type": "code",
      "source": [],
      "metadata": {
        "id": "OF8oQxcRGIXi"
      },
      "execution_count": null,
      "outputs": []
    }
  ]
}